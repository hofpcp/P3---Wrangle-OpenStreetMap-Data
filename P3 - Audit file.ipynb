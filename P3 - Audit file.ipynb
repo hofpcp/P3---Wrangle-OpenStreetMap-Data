{
 "cells": [
  {
   "cell_type": "code",
   "execution_count": 1,
   "metadata": {
    "collapsed": true
   },
   "outputs": [],
   "source": [
    "## Import all necessary libraries for auditing data, correcting data and mapping into json format for MongoDB upload\n",
    "\n",
    "import xml.etree.cElementTree as ET\n",
    "from collections import defaultdict\n",
    "import pprint\n",
    "import re\n",
    "import codecs\n",
    "import json"
   ]
  },
  {
   "cell_type": "code",
   "execution_count": 2,
   "metadata": {
    "collapsed": true
   },
   "outputs": [],
   "source": [
    "## Create Global variables and list needed for character checking and for json format  \n",
    "\n",
    "\n",
    "lower = re.compile(r'^([a-z]|_)*$')\n",
    "lower_colon = re.compile(r'^([a-z]|_)*:([a-z]|_)*$')\n",
    "double_colon = re.compile(r'^([a-z]|_)*:([a-z]|_)*:([a-z]|_)*$')\n",
    "problemchars = re.compile(r'[=\\+/&<>;\\'\"\\?%#$@\\,\\. \\t\\r\\n]')\n",
    "\n",
    "\n",
    "CREATED = [ \"version\", \"changeset\", \"timestamp\", \"user\", \"uid\"]"
   ]
  },
  {
   "cell_type": "code",
   "execution_count": 3,
   "metadata": {
    "collapsed": true
   },
   "outputs": [],
   "source": [
    "## Step 1 in auditing counting the amount of different tags in .osm file from openstreetmap\n",
    "\n",
    "def count_tags(filename):\n",
    "        tags = {}\n",
    "        for event, element in ET.iterparse(filename):\n",
    "            if element.tag in tags:\n",
    "                tags[element.tag] += 1\n",
    "            else:\n",
    "                tags.update({element.tag:0})\n",
    "                tags[element.tag] += 1            \n",
    "\n",
    "        return tags"
   ]
  },
  {
   "cell_type": "code",
   "execution_count": 4,
   "metadata": {
    "collapsed": false
   },
   "outputs": [
    {
     "data": {
      "text/plain": [
       "{'bounds': 1,\n",
       " 'member': 3946,\n",
       " 'meta': 1,\n",
       " 'nd': 80622,\n",
       " 'node': 69640,\n",
       " 'note': 1,\n",
       " 'osm': 1,\n",
       " 'relation': 101,\n",
       " 'tag': 36719,\n",
       " 'way': 7902}"
      ]
     },
     "execution_count": 4,
     "metadata": {},
     "output_type": "execute_result"
    }
   ],
   "source": [
    "count_tags(\"dallas_test.osm\")"
   ]
  },
  {
   "cell_type": "code",
   "execution_count": 5,
   "metadata": {
    "collapsed": true
   },
   "outputs": [],
   "source": [
    "## Step 2 in auditing counting the amount of subordinates of tags in .osm file from openstreetmap\n",
    "\n",
    "def count_subs(filename):\n",
    "        subs = {}\n",
    "        for event, element in ET.iterparse(filename):\n",
    "            for attrName, attrValue in element.attrib.items():\n",
    "                if attrName in subs:\n",
    "                    subs[attrName] += 1\n",
    "                else:\n",
    "                    subs.update({attrName:0})\n",
    "                    subs[attrName] += 1\n",
    "                \n",
    "        return subs"
   ]
  },
  {
   "cell_type": "code",
   "execution_count": 6,
   "metadata": {
    "collapsed": false
   },
   "outputs": [
    {
     "data": {
      "text/plain": [
       "{'changeset': 77643,\n",
       " 'generator': 1,\n",
       " 'id': 77643,\n",
       " 'k': 36719,\n",
       " 'lat': 69640,\n",
       " 'lon': 69640,\n",
       " 'maxlat': 1,\n",
       " 'maxlon': 1,\n",
       " 'minlat': 1,\n",
       " 'minlon': 1,\n",
       " 'osm_base': 1,\n",
       " 'ref': 84568,\n",
       " 'role': 3946,\n",
       " 'timestamp': 77643,\n",
       " 'type': 3946,\n",
       " 'uid': 77643,\n",
       " 'user': 77643,\n",
       " 'v': 36719,\n",
       " 'version': 77644}"
      ]
     },
     "execution_count": 6,
     "metadata": {},
     "output_type": "execute_result"
    }
   ],
   "source": [
    "count_subs(\"dallas_test.osm\")"
   ]
  },
  {
   "cell_type": "code",
   "execution_count": 7,
   "metadata": {
    "collapsed": false
   },
   "outputs": [],
   "source": [
    "## Step 3 audit iterate through street names and return list and count of endings\n",
    "\n",
    "osm_file =open('dallas_test.osm', 'r')\n",
    "\n",
    "street_type_re = re.compile(r'\\b\\S+\\.?$', re.IGNORECASE)\n",
    "street_types = defaultdict(int)\n",
    "\n",
    "\n",
    "def audit_street_type(street_types, street_name):\n",
    "    m = street_type_re.search(street_name)\n",
    "    if m:\n",
    "        street_type = m.group()\n",
    "        street_types[street_type] +=1\n",
    "\n",
    "def print_sorted_dict(d):\n",
    "    keys = d.keys()\n",
    "    keys = sorted(keys, key = lambda s: s.lower())\n",
    "    for k in keys:\n",
    "        v = d[k]\n",
    "        print '%s: %d' % (k , v)\n",
    "\n",
    "def is_street_name(elem):\n",
    "    return (elem.tag == 'tag') and (elem.attrib['k'] == 'addr:street')\n",
    "\n",
    "def audit():\n",
    "    for event, elem in ET.iterparse(osm_file):\n",
    "        if is_street_name(elem):\n",
    "            audit_street_type(street_types, elem.attrib['v'])\n",
    "    print_sorted_dict(street_types)  \n"
   ]
  },
  {
   "cell_type": "code",
   "execution_count": 8,
   "metadata": {
    "collapsed": false
   },
   "outputs": [
    {
     "name": "stdout",
     "output_type": "stream",
     "text": [
      "200: 1\n",
      "300: 1\n",
      "500E: 1\n",
      "75240: 2\n",
      "Avenue: 1\n",
      "Boulevard: 1\n",
      "Dr.: 2\n",
      "Drive: 1\n",
      "Expressway: 5\n",
      "Highway: 3\n",
      "Lane: 12\n",
      "Rd: 1\n",
      "Rd.: 2\n",
      "Road: 21\n",
      "Street: 1\n",
      "Way: 1\n"
     ]
    }
   ],
   "source": [
    "audit()"
   ]
  },
  {
   "cell_type": "code",
   "execution_count": 9,
   "metadata": {
    "collapsed": false
   },
   "outputs": [],
   "source": [
    "\n",
    "## From audit above we can see issues with Dr./Drive and Rd/Rd./Road as well as numbers included in street Names\n",
    "## which is corrected via the following code.\n",
    "## Following first run of this code further issues were identified. Street names including \"Dallas\" / \"tx\" as well as starting \n",
    "## with numbers, all which have been included in the code for cleaning.\n",
    "\n",
    "mapping = { \"Dr.\": \"Drive\",'Rd.': 'Road','Rd': 'Road', '#500E': '', 'dallas': '', 'tx': '', 'W': 'West'}\n",
    "\n",
    "            \n",
    "def update_name(file, mapping):\n",
    "    for event, elem in ET.iterparse(file):\n",
    "        if (elem.tag == 'tag') and (elem.attrib['k'] == 'addr:street'):\n",
    "            name = elem.attrib['v']\n",
    "            n = street_type_re.search(name)\n",
    "            if n:\n",
    "                street_type = n.group()\n",
    "                \n",
    "                if street_type.isdigit():\n",
    "                    m = street_type_re.split(name)\n",
    "                    name = m[0]\n",
    "                    \n",
    "                \n",
    "            for word in name.split():\n",
    "                if word in mapping.keys():\n",
    "                    name = name.replace(word,mapping[word])\n",
    "                elif word.isdigit():\n",
    "                    name = name.replace(word,'')\n",
    "                    name = name.lstrip(' ')\n",
    "                    name = name.capitalize()\n",
    "                            \n",
    "            return name\n",
    "\n"
   ]
  },
  {
   "cell_type": "code",
   "execution_count": 10,
   "metadata": {
    "collapsed": false
   },
   "outputs": [
    {
     "data": {
      "text/plain": [
       "'Hillcrest Road'"
      ]
     },
     "execution_count": 10,
     "metadata": {},
     "output_type": "execute_result"
    }
   ],
   "source": [
    "update_name('dallas_test.osm',mapping)"
   ]
  },
  {
   "cell_type": "code",
   "execution_count": 11,
   "metadata": {
    "collapsed": false
   },
   "outputs": [],
   "source": [
    "## The following code provides a list of house numbers from which I can audit the data\n",
    "\n",
    "def check_house(filename):\n",
    "    for event, elem in ET.iterparse(filename):\n",
    "        if elem.tag == 'tag':\n",
    "            if elem.attrib['k'] == 'addr:housenumber':\n",
    "                print elem.attrib['v']\n",
    "\n"
   ]
  },
  {
   "cell_type": "code",
   "execution_count": 12,
   "metadata": {
    "collapsed": false,
    "scrolled": true
   },
   "outputs": [
    {
     "name": "stdout",
     "output_type": "stream",
     "text": [
      "8500\n",
      "5959\n",
      "7171\n",
      "972-788-2591\n",
      "12720\n",
      "11611\n",
      "11551\n",
      "10909\n",
      "12720\n",
      "4319\n",
      "4315\n",
      "4323\n",
      "4327\n",
      "10207\n",
      "5365\n",
      "6807\n",
      "7804\n",
      "13881\n",
      "13601\n",
      "13355\n",
      "8687\n",
      "13319\n",
      "8611\n",
      "5811\n",
      "5803\n",
      "1490 W Spring Valley Rd\n",
      "12950\n",
      "13021\n",
      "7171\n",
      "13155\n",
      "13319\n",
      "11920\n",
      "10720\n",
      "10455\n",
      "3757\n",
      "14280\n",
      "11880\n",
      "10600\n",
      "6831\n",
      "8604\n",
      "8135\n",
      "13770\n",
      "10410 Stone Canyon Rd Dallas, TX 75230\n",
      "10410\n",
      "6315\n",
      "12120\n",
      "8343\n",
      "6724\n",
      "14021\n",
      "11722\n",
      "10056\n",
      "6423\n",
      "4900\n",
      "11600\n",
      "3333\n",
      "8687\n"
     ]
    }
   ],
   "source": [
    "check_house('dallas_test.osm')"
   ]
  },
  {
   "cell_type": "code",
   "execution_count": 13,
   "metadata": {
    "collapsed": true
   },
   "outputs": [],
   "source": [
    "## From audit above we can see issues with telephone no. instead of house number and house number with address following\n",
    "## In order to correct this the following code will iterate over the house number and update with \"To be updated\" if including\n",
    "## \"-\" reflecting it is a telephone number and if lenght of data is >5 digits, remove everything after 5th digit. \n",
    "\n",
    "\n",
    "def update_house(file):\n",
    "    for event, elem in ET.iterparse(file):\n",
    "        if (elem.tag == 'tag') and (elem.attrib['k'] == 'addr:housenumber'):\n",
    "            house_no = elem.attrib['v']\n",
    "            if '-' in house_no:\n",
    "                house_no = 'To be updated'\n",
    "            \n",
    "            elif len(house_no) > 5:\n",
    "                house_no = house_no[:5]\n",
    "                            \n",
    "            return house_no\n"
   ]
  },
  {
   "cell_type": "code",
   "execution_count": 14,
   "metadata": {
    "collapsed": false
   },
   "outputs": [
    {
     "data": {
      "text/plain": [
       "'8500'"
      ]
     },
     "execution_count": 14,
     "metadata": {},
     "output_type": "execute_result"
    }
   ],
   "source": [
    "update_house('dallas_test.osm')"
   ]
  },
  {
   "cell_type": "code",
   "execution_count": 15,
   "metadata": {
    "collapsed": true
   },
   "outputs": [],
   "source": [
    "## The following code provides a list of postcodes from which I can audit the data\n",
    "\n",
    "def check_post(filename):\n",
    "    postcode = []\n",
    "    for event, elem in ET.iterparse(filename):\n",
    "        if elem.tag == 'tag':\n",
    "            if elem.attrib['k'] == 'addr:postcode':\n",
    "                postcode.append(elem.attrib['v'])\n",
    "    \n",
    "    postcode = set(postcode)\n",
    "    print postcode\n",
    "\n"
   ]
  },
  {
   "cell_type": "code",
   "execution_count": 16,
   "metadata": {
    "collapsed": false
   },
   "outputs": [
    {
     "name": "stdout",
     "output_type": "stream",
     "text": [
      "set(['75243', 'TX 75229', '75240', '75001', '75231', '75244', '75229', '75230', 'TX 75230', '75225', '75234', '75214', '75080'])\n"
     ]
    }
   ],
   "source": [
    "check_post('dallas_test.osm')"
   ]
  },
  {
   "cell_type": "code",
   "execution_count": 17,
   "metadata": {
    "collapsed": true
   },
   "outputs": [],
   "source": [
    "## From audit above of postcodes we can see issues with a preceeding 'TX'\n",
    "## In order to correct this the following code will iterate over the postcodes and remove 'TX' when found.\n",
    "\n",
    "\n",
    "def update_postcode(file):\n",
    "    for event, elem in ET.iterparse(file):\n",
    "        if (elem.tag == 'tag') and (elem.attrib['k'] == 'addr:postcode'):\n",
    "            post_co = elem.attrib['v']\n",
    "            if 'TX' in post_co:\n",
    "                post_co = post_co.replace('TX ','')\n",
    "            \n",
    "                                        \n",
    "            return post_co\n"
   ]
  },
  {
   "cell_type": "code",
   "execution_count": 18,
   "metadata": {
    "collapsed": false
   },
   "outputs": [
    {
     "data": {
      "text/plain": [
       "'75225'"
      ]
     },
     "execution_count": 18,
     "metadata": {},
     "output_type": "execute_result"
    }
   ],
   "source": [
    "update_postcode('dallas_test.osm')"
   ]
  },
  {
   "cell_type": "markdown",
   "metadata": {},
   "source": [
    "# The remaining code blocks are some additional auditing and code used for converting openstreet map data to a .json format\n",
    "# This .json file is then loaded into a MongoDB database/collection needed for queries and answers to questions from project rubric.\n",
    "# The actual upload to MongoDB is done via Command prompt commands in the MongoDB file library.\n"
   ]
  },
  {
   "cell_type": "code",
   "execution_count": 19,
   "metadata": {
    "collapsed": true
   },
   "outputs": [],
   "source": [
    "\n",
    "def key_type(element, keys):\n",
    "    if element.tag == \"tag\":\n",
    "        for tag in element.iter(\"tag\"):\n",
    "            if lower.search(element.attrib['v']):\n",
    "                keys['lower'] += 1\n",
    "            elif lower_colon.search(element.attrib['v']):\n",
    "                keys['lower_colon'] += 1\n",
    "            elif problemchars.search(element.attrib['v']):\n",
    "                keys['problemchars'] += 1\n",
    "            else:\n",
    "                keys['other'] += 1\n",
    "\n",
    "    return keys\n"
   ]
  },
  {
   "cell_type": "code",
   "execution_count": 20,
   "metadata": {
    "collapsed": true
   },
   "outputs": [],
   "source": [
    "def process_map(filename):\n",
    "    keys = {\"lower\": 0, \"lower_colon\": 0, \"problemchars\": 0, \"other\": 0}\n",
    "    for _, element in ET.iterparse(filename):\n",
    "        keys = key_type(element, keys)\n",
    "\n",
    "    return keys\n"
   ]
  },
  {
   "cell_type": "code",
   "execution_count": 21,
   "metadata": {
    "collapsed": false
   },
   "outputs": [
    {
     "name": "stdout",
     "output_type": "stream",
     "text": [
      "{'lower': 15059, 'lower_colon': 4, 'other': 12797, 'problemchars': 8859}\n"
     ]
    }
   ],
   "source": [
    "keys = process_map('dallas_test.osm')\n",
    "pprint.pprint(keys)"
   ]
  },
  {
   "cell_type": "code",
   "execution_count": 22,
   "metadata": {
    "collapsed": true
   },
   "outputs": [],
   "source": [
    "def shape_element(element):\n",
    "    node = {}\n",
    "    created = {}\n",
    "    pos = []\n",
    "    pos_sort = []\n",
    "    address = {}\n",
    "    node_refs = []\n",
    "    if element.tag == \"node\" or element.tag == \"way\" :\n",
    "        for attrName, attrValue in element.attrib.items():\n",
    "            \n",
    "            \n",
    "            if attrName in CREATED:\n",
    "                created[attrName] = attrValue\n",
    "            elif attrName == 'lon' or attrName == 'lat':\n",
    "                pos.append(float(attrValue))\n",
    "            else:\n",
    "                node[attrName] = attrValue\n",
    "            \n",
    "            for tag in element.iter(\"tag\"):\n",
    "                if tag.attrib['k'][:5] == 'addr:':\n",
    "                    address[tag.attrib['k'][5:]] = tag.attrib['v']\n",
    "                elif problemchars.search(tag.attrib['v']):\n",
    "                    continue\n",
    "                elif double_colon.search(tag.attrib['k']):\n",
    "                    continue\n",
    "                else:\n",
    "                    node[tag.attrib['k']] = tag.attrib['v']\n",
    "                    \n",
    "            node['type'] = element.tag\n",
    "            \n",
    "        for nd in element.iter('nd'):\n",
    "                node_refs.append(nd.attrib['ref'])\n",
    "            \n",
    "        node['created'] = created\n",
    "        \n",
    "        if len(pos) > 0:\n",
    "            pos.sort(reverse=True)\n",
    "            node['pos'] = pos\n",
    "            \n",
    "        if len(address) > 0:\n",
    "            node['address'] = address\n",
    "        \n",
    "        if len(node_refs) > 0:\n",
    "            node['node_refs'] = node_refs\n",
    "        \n",
    "        \n",
    "        return node\n",
    "    else:\n",
    "        return None\n",
    "    \n",
    "    "
   ]
  },
  {
   "cell_type": "code",
   "execution_count": 23,
   "metadata": {
    "collapsed": false
   },
   "outputs": [],
   "source": [
    "\n",
    "def process_map_mongo(file_in, pretty = False):\n",
    "    # You do not need to change this file\n",
    "    file_out = \"{0}.json\".format(file_in)\n",
    "    data = []\n",
    "    with codecs.open(file_out, \"w\") as fo:\n",
    "        for _, element in ET.iterparse(file_in):\n",
    "            el = shape_element(element)\n",
    "            if el:\n",
    "                data.append(el)\n",
    "                if pretty:\n",
    "                    fo.write(json.dumps(el, indent=2)+\"\\n\")\n",
    "                else:\n",
    "                    fo.write(json.dumps(el) + \"\\n\")\n",
    "    return data\n"
   ]
  },
  {
   "cell_type": "code",
   "execution_count": 24,
   "metadata": {
    "collapsed": false
   },
   "outputs": [],
   "source": [
    "data = process_map_mongo('dallas_texas.osm', False)"
   ]
  },
  {
   "cell_type": "code",
   "execution_count": null,
   "metadata": {
    "collapsed": true
   },
   "outputs": [],
   "source": []
  }
 ],
 "metadata": {
  "kernelspec": {
   "display_name": "Python 2",
   "language": "python",
   "name": "python2"
  },
  "language_info": {
   "codemirror_mode": {
    "name": "ipython",
    "version": 2
   },
   "file_extension": ".py",
   "mimetype": "text/x-python",
   "name": "python",
   "nbconvert_exporter": "python",
   "pygments_lexer": "ipython2",
   "version": "2.7.11"
  }
 },
 "nbformat": 4,
 "nbformat_minor": 0
}
