{
 "cells": [
  {
   "cell_type": "code",
   "execution_count": 1,
   "metadata": {
    "collapsed": true
   },
   "outputs": [],
   "source": [
    "## Import necessary libraries and create connection to MongoDB and relevant database/collection\n",
    "\n",
    "import pprint\n",
    "import re\n",
    "import codecs\n",
    "import json\n",
    "from pymongo import MongoClient\n",
    "my_database = MongoClient('mongodb://localhost:27017')"
   ]
  },
  {
   "cell_type": "code",
   "execution_count": 2,
   "metadata": {
    "collapsed": true
   },
   "outputs": [],
   "source": [
    "db = my_database.client"
   ]
  },
  {
   "cell_type": "code",
   "execution_count": 3,
   "metadata": {
    "collapsed": false
   },
   "outputs": [
    {
     "data": {
      "text/plain": [
       "2838472"
      ]
     },
     "execution_count": 3,
     "metadata": {},
     "output_type": "execute_result"
    }
   ],
   "source": [
    "## Find number of documents in Dallas collection\n",
    "\n",
    "db.dallas.count()  "
   ]
  },
  {
   "cell_type": "code",
   "execution_count": 4,
   "metadata": {
    "collapsed": false
   },
   "outputs": [
    {
     "data": {
      "text/plain": [
       "2551583"
      ]
     },
     "execution_count": 4,
     "metadata": {},
     "output_type": "execute_result"
    }
   ],
   "source": [
    "## Find number of 'Node' in Dallas collection\n",
    "\n",
    "db.dallas.find({\"type\":\"node\"}).count()"
   ]
  },
  {
   "cell_type": "code",
   "execution_count": 5,
   "metadata": {
    "collapsed": false
   },
   "outputs": [
    {
     "data": {
      "text/plain": [
       "286889"
      ]
     },
     "execution_count": 5,
     "metadata": {},
     "output_type": "execute_result"
    }
   ],
   "source": [
    "## Find number of \"Way\" in Dallas collection\n",
    "\n",
    "db.dallas.find({\"type\":\"way\"}).count()"
   ]
  },
  {
   "cell_type": "code",
   "execution_count": 6,
   "metadata": {
    "collapsed": false
   },
   "outputs": [
    {
     "data": {
      "text/plain": [
       "1704"
      ]
     },
     "execution_count": 6,
     "metadata": {},
     "output_type": "execute_result"
    }
   ],
   "source": [
    "## Find number of unique users in Dallas collection\n",
    "\n",
    "len(db.dallas.distinct(\"created.user\"))"
   ]
  },
  {
   "cell_type": "code",
   "execution_count": 7,
   "metadata": {
    "collapsed": false
   },
   "outputs": [
    {
     "name": "stdout",
     "output_type": "stream",
     "text": [
      "{u'count': 1120139, u'_id': u'woodpeck_fixbot'}\n"
     ]
    }
   ],
   "source": [
    "## Find must productive contributor (user) in Dallas collection\n",
    "\n",
    "top1_user = db.dallas.aggregate([{\"$group\":{\"_id\":\"$created.user\", \"count\":{\"$sum\":1}}}, {\"$sort\":{\"count\":-1}}, {\"$limit\":1}])\n",
    "\n",
    "for doc in top1_user:\n",
    "    print doc"
   ]
  },
  {
   "cell_type": "code",
   "execution_count": 8,
   "metadata": {
    "collapsed": false
   },
   "outputs": [
    {
     "name": "stdout",
     "output_type": "stream",
     "text": [
      "{u'num_users': 319, u'_id': 1}\n"
     ]
    }
   ],
   "source": [
    "## Count number of users who have only contributed 1 document\n",
    "\n",
    "only_once = db.dallas.aggregate([{\"$group\":{\"_id\":\"$created.user\", \"count\":{\"$sum\":1}}}, {\"$group\":{\"_id\":\"$count\",\n",
    "\"num_users\":{\"$sum\":1}}}, {\"$sort\":{\"_id\":1}}, {\"$limit\":1}])\n",
    "\n",
    "for doc in only_once:\n",
    "    print doc"
   ]
  },
  {
   "cell_type": "code",
   "execution_count": 9,
   "metadata": {
    "collapsed": false
   },
   "outputs": [
    {
     "name": "stdout",
     "output_type": "stream",
     "text": [
      "{u'count': 3802, u'_id': u'parking'}\n",
      "{u'count': 2859, u'_id': u'place_of_worship'}\n",
      "{u'count': 2003, u'_id': u'school'}\n",
      "{u'count': 1065, u'_id': u'fast_food'}\n",
      "{u'count': 958, u'_id': u'restaurant'}\n",
      "{u'count': 452, u'_id': u'fuel'}\n",
      "{u'count': 246, u'_id': u'grave_yard'}\n",
      "{u'count': 218, u'_id': u'bank'}\n",
      "{u'count': 165, u'_id': u'fire_station'}\n",
      "{u'count': 155, u'_id': u'post_box'}\n"
     ]
    }
   ],
   "source": [
    "## Find top ten Amenities in Dallas collection\n",
    "\n",
    "top_amen = db.dallas.aggregate([{\"$match\":{\"amenity\":{\"$exists\":1}}}, {\"$group\":{\"_id\":\"$amenity\",\"count\":{\"$sum\":1}}},\n",
    "{\"$sort\":{\"count\":-1}}, {\"$limit\":10}])\n",
    "\n",
    "for doc in top_amen:\n",
    "    print doc"
   ]
  },
  {
   "cell_type": "code",
   "execution_count": 12,
   "metadata": {
    "collapsed": false
   },
   "outputs": [
    {
     "name": "stdout",
     "output_type": "stream",
     "text": [
      "{u'count': 2769, u'_id': u'christian'}\n",
      "{u'count': 72, u'_id': None}\n"
     ]
    }
   ],
   "source": [
    "## Find most listed religion\n",
    "\n",
    "religion = db.dallas.aggregate([{\"$match\":{\"amenity\":{\"$exists\":1}, \"amenity\":\"place_of_worship\"}},{\"$group\":{\"_id\":\"$religion\", \n",
    "\"count\":{\"$sum\":1}}},{\"$sort\":{\"count\":-1}}, {\"$limit\":2}])\n",
    "\n",
    "for doc in religion:\n",
    "    print doc"
   ]
  },
  {
   "cell_type": "code",
   "execution_count": 13,
   "metadata": {
    "collapsed": false
   },
   "outputs": [
    {
     "name": "stdout",
     "output_type": "stream",
     "text": [
      "{u'count': 372, u'_id': u'burger'}\n",
      "{u'count': 323, u'_id': None}\n"
     ]
    }
   ],
   "source": [
    "## Find most listed cuisine\n",
    "\n",
    "cuisine = db.dallas.aggregate([{\"$match\":{\"amenity\":{\"$exists\":1}, \"amenity\":\"fast_food\"}}, {\"$group\":{\"_id\":\"$cuisine\", \n",
    "\"count\":{\"$sum\":1}}},{\"$sort\":{\"count\":-1}}, {\"$limit\":2}])\n",
    "\n",
    "for doc in cuisine:\n",
    "    print doc"
   ]
  },
  {
   "cell_type": "code",
   "execution_count": null,
   "metadata": {
    "collapsed": true
   },
   "outputs": [],
   "source": []
  }
 ],
 "metadata": {
  "kernelspec": {
   "display_name": "Python 2",
   "language": "python",
   "name": "python2"
  },
  "language_info": {
   "codemirror_mode": {
    "name": "ipython",
    "version": 2
   },
   "file_extension": ".py",
   "mimetype": "text/x-python",
   "name": "python",
   "nbconvert_exporter": "python",
   "pygments_lexer": "ipython2",
   "version": "2.7.11"
  }
 },
 "nbformat": 4,
 "nbformat_minor": 0
}
